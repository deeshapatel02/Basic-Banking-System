{
  "nbformat": 4,
  "nbformat_minor": 0,
  "metadata": {
    "colab": {
      "name": "Workshop Day1.ipynb",
      "provenance": [],
      "authorship_tag": "ABX9TyOVtJD+A+6YOhK6pFNQfuCt",
      "include_colab_link": true
    },
    "kernelspec": {
      "name": "python3",
      "display_name": "Python 3"
    },
    "language_info": {
      "name": "python"
    }
  },
  "cells": [
    {
      "cell_type": "markdown",
      "metadata": {
        "id": "view-in-github",
        "colab_type": "text"
      },
      "source": [
        "<a href=\"https://colab.research.google.com/github/deeshapatel02/Basic-Banking-System/blob/main/Workshop_Day1.ipynb\" target=\"_parent\"><img src=\"https://colab.research.google.com/assets/colab-badge.svg\" alt=\"Open In Colab\"/></a>"
      ]
    },
    {
      "cell_type": "code",
      "metadata": {
        "colab": {
          "base_uri": "https://localhost:8080/"
        },
        "id": "7VH708UrqLVf",
        "outputId": "c7a07264-dfa0-4d64-d596-ecce29698f23"
      },
      "source": [
        "print(\"Hello Student\")\n",
        "print(\"Hello Student\")\n",
        "print(\"Hello Student\")\n",
        "print(\"This is My Father's House\")\n",
        "print('\"Kohinoor\" is a diamond')"
      ],
      "execution_count": 4,
      "outputs": [
        {
          "output_type": "stream",
          "text": [
            "Hello Student\n",
            "Hello Student\n",
            "Hello Student\n",
            "This is My Father's House\n",
            "\"Kohinoor\" is a diamond\n"
          ],
          "name": "stdout"
        }
      ]
    },
    {
      "cell_type": "code",
      "metadata": {
        "colab": {
          "base_uri": "https://localhost:8080/"
        },
        "id": "HZQiqAJgrivm",
        "outputId": "17724723-e847-43f0-bab5-d56dc215a6dc"
      },
      "source": [
        "a = \"apple\"\n",
        "print(\"you can eat an\" + a)\n",
        "print(\"you can eat an \" + a)\n",
        "print(\"you can eat an\",a )"
      ],
      "execution_count": 5,
      "outputs": [
        {
          "output_type": "stream",
          "text": [
            "you can eat anapple\n",
            "you can eat an apple\n",
            "you can eat an apple\n"
          ],
          "name": "stdout"
        }
      ]
    },
    {
      "cell_type": "code",
      "metadata": {
        "colab": {
          "base_uri": "https://localhost:8080/"
        },
        "id": "gt0QGtXgsGlb",
        "outputId": "1d3b6881-27ed-45e9-f9db-c473d344dd3c"
      },
      "source": [
        "print(\"you can eat\" + str(a))\n",
        "print(\"The given number is\",a)"
      ],
      "execution_count": 7,
      "outputs": [
        {
          "output_type": "stream",
          "text": [
            "you can eatapple\n",
            "The given number is apple\n"
          ],
          "name": "stdout"
        }
      ]
    },
    {
      "cell_type": "code",
      "metadata": {
        "id": "sHG9-6qprhhf"
      },
      "source": [
        ""
      ],
      "execution_count": null,
      "outputs": []
    }
  ]
}